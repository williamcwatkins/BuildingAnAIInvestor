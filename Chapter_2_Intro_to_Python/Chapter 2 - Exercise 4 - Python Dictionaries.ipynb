{
 "cells": [
  {
   "cell_type": "markdown",
   "metadata": {},
   "source": [
    "# Exercise 4 - Python Dictionaries"
   ]
  },
  {
   "cell_type": "code",
   "execution_count": 1,
   "metadata": {},
   "outputs": [],
   "source": [
    "# Code from Book: Build Your Own AI Investor\n",
    "# Damon Lee 2021\n",
    "# Check out the performance on www.valueinvestingai.com\n",
    "# Code uses data from the (presumably) nice people at https://simfin.com/. \n",
    "# Feel free to fork this code for others to see what can be done with it."
   ]
  },
  {
   "cell_type": "code",
   "execution_count": 2,
   "metadata": {},
   "outputs": [
    {
     "name": "stdout",
     "output_type": "stream",
     "text": [
      "{'Name': 'Max', 'Height': 1.9, 'Test Scores': [50, 62, 78, 47], 'Nationality': 'German'}\n"
     ]
    }
   ],
   "source": [
    "# A python Dictionary is a kind of lookup table. It can store a series of any kind of object which is accessed with a 'key'.\n",
    "dict1={} # This is how to create en empty dictionary.\n",
    "# Here we fill our Python dictionary which stores data about one person.\n",
    "dict1 = {\n",
    "    'Name': 'Max',\n",
    "    'Height': 1.9,\n",
    "    'Test Scores':[50, 62, 78, 47],\n",
    "    'Nationality':'German'\n",
    "}\n",
    "print(dict1)"
   ]
  },
  {
   "cell_type": "code",
   "execution_count": 3,
   "metadata": {},
   "outputs": [
    {
     "data": {
      "text/plain": [
       "'Max'"
      ]
     },
     "execution_count": 3,
     "metadata": {},
     "output_type": "execute_result"
    }
   ],
   "source": [
    "# The first item is the 'Key', the item after the colon: is the infomation to be accessed with the key.\n",
    "dict1['Name'] # View the info behind item 'Name'"
   ]
  },
  {
   "cell_type": "code",
   "execution_count": 4,
   "metadata": {},
   "outputs": [
    {
     "data": {
      "text/plain": [
       "dict_keys(['Name', 'Height', 'Test Scores', 'Nationality'])"
      ]
     },
     "execution_count": 4,
     "metadata": {},
     "output_type": "execute_result"
    }
   ],
   "source": [
    "# You can view all the keys in your dictionary with the .keys() function\n",
    "dict1.keys()"
   ]
  },
  {
   "cell_type": "code",
   "execution_count": 5,
   "metadata": {},
   "outputs": [
    {
     "name": "stdout",
     "output_type": "stream",
     "text": [
      "{'Name': 'Max', 'Height': 1.9, 'Test Scores': [50, 62, 78, 47], 'Nationality': 'German', 'Shoe Size': 7}\n"
     ]
    }
   ],
   "source": [
    "# You can add items to Dictionaries by stating them:\n",
    "dict1['Shoe Size'] = 7\n",
    "print(dict1)"
   ]
  },
  {
   "cell_type": "code",
   "execution_count": 6,
   "metadata": {},
   "outputs": [
    {
     "name": "stdout",
     "output_type": "stream",
     "text": [
      "{'Name': 'Max', 'Test Scores': [50, 62, 78, 47], 'Nationality': 'German', 'Shoe Size': 7}\n"
     ]
    }
   ],
   "source": [
    "# You can delete items with the del command as with all other variables in Python.\n",
    "del dict1['Height']\n",
    "print(dict1)"
   ]
  },
  {
   "cell_type": "markdown",
   "metadata": {},
   "source": [
    "# Exercise 4\n",
    "Dictionaries are quite a fundamental must-know object in Python, they are essentially look-up tables."
   ]
  },
  {
   "cell_type": "code",
   "execution_count": 7,
   "metadata": {},
   "outputs": [],
   "source": [
    "# Use a loop to fill in a list of dictionaries with company data,\n",
    "# where each dictionary contains infomation for one stock.\n",
    "# Stock infomation is provided"
   ]
  },
  {
   "cell_type": "code",
   "execution_count": 37,
   "metadata": {},
   "outputs": [],
   "source": [
    "# Once the data is stored in a list of dicts, use a loop and an if statement to filter out our stocks.\n",
    "# Have the loop create a new list of dictionaries of companies we have filtered."
   ]
  },
  {
   "cell_type": "code",
   "execution_count": 1,
   "metadata": {},
   "outputs": [],
   "source": [
    "# Given data.\n",
    "Stocks = ['JKHY', 'FSTR', 'ETV', 'WAFD', 'RSG', 'HTGC']\n",
    "PriceEarningsRatios = [48.54, 3.29, 5.71, 9.18, 23.89, 14.02]\n",
    "Beta = [0.59, 1.67, 0.89, 0.99, 0.62, 1.51]"
   ]
  },
  {
   "cell_type": "code",
   "execution_count": 2,
   "metadata": {},
   "outputs": [],
   "source": [
    "# Correct this loop to fill our list of dictionaries\n",
    "stockDictDicts = {}#Create empty dict we will fill with infomation\n",
    "for i, S in enumerate(Stocks): \n",
    "    stockDictDicts[S] =  {'PE':PriceEarningsRatios[i],\\\n",
    "                         'Beta':Beta[i]}"
   ]
  },
  {
   "cell_type": "code",
   "execution_count": 3,
   "metadata": {},
   "outputs": [
    {
     "data": {
      "text/plain": [
       "{'JKHY': {'PE': 48.54, 'Beta': 0.59},\n",
       " 'FSTR': {'PE': 3.29, 'Beta': 1.67},\n",
       " 'ETV': {'PE': 5.71, 'Beta': 0.89},\n",
       " 'WAFD': {'PE': 9.18, 'Beta': 0.99},\n",
       " 'RSG': {'PE': 23.89, 'Beta': 0.62},\n",
       " 'HTGC': {'PE': 14.02, 'Beta': 1.51}}"
      ]
     },
     "execution_count": 3,
     "metadata": {},
     "output_type": "execute_result"
    }
   ],
   "source": [
    "stockDictDicts # View out list of dictionaries with all data"
   ]
  },
  {
   "cell_type": "code",
   "execution_count": 12,
   "metadata": {},
   "outputs": [],
   "source": [
    "# With infomation stored in this way we can see infomation about a single company:\n",
    "stockDictDicts['WAFD']"
   ]
  },
  {
   "cell_type": "code",
   "execution_count": 11,
   "metadata": {},
   "outputs": [],
   "source": [
    "# And with a loop we can filter infomation out from our stocks:\n",
    "filt_dict = [] # empty list to fill up\n",
    "for dict_i in stockDictDicts:\n",
    "    if(stockDictDicts[dict_i]['PE'] < 10):\n",
    "        filt_dict.append(dict_i)\n",
    "\n",
    "print(filt_dict)"
   ]
  },
  {
   "cell_type": "code",
   "execution_count": null,
   "metadata": {},
   "outputs": [],
   "source": []
  }
 ],
 "metadata": {
  "kernelspec": {
   "display_name": "Python 3 (ipykernel)",
   "language": "python",
   "name": "python3"
  },
  "language_info": {
   "codemirror_mode": {
    "name": "ipython",
    "version": 3
   },
   "file_extension": ".py",
   "mimetype": "text/x-python",
   "name": "python",
   "nbconvert_exporter": "python",
   "pygments_lexer": "ipython3",
   "version": "3.11.3"
  }
 },
 "nbformat": 4,
 "nbformat_minor": 4
}
