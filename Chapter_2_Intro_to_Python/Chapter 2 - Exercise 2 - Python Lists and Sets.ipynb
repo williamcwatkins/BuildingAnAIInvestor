{
 "cells": [
  {
   "cell_type": "code",
   "execution_count": 1,
   "metadata": {},
   "outputs": [],
   "source": [
    "# Code from Book: Build Your Own AI Investor\n",
    "# Damon Lee 2021\n",
    "# Check out the performance on www.valueinvestingai.com\n",
    "# Code uses data from the (presumably) nice people at https://simfin.com/. \n",
    "# Feel free to fork this code for others to see what can be done with it."
   ]
  },
  {
   "cell_type": "markdown",
   "metadata": {},
   "source": [
    "# Exercise 2 - Python Lists and Sets\n",
    "Chapter 2 intro to Python functions. Here Numpy is imported for me to use the exponential and logarithmic functions.\n",
    "## Lists\n",
    "Read through and execute these cells and see what the code does"
   ]
  },
  {
   "cell_type": "code",
   "execution_count": 2,
   "metadata": {},
   "outputs": [],
   "source": [
    "# Code from Book: Build Your Own AI Investor\n",
    "# Damon Lee 2021\n",
    "# Check out the performance on www.valueinvestingai.com\n",
    "# Code uses data from the (presumably) nice people at https://simfin.com/. \n",
    "# Feel free to fork this code for others to see what can be done with it."
   ]
  },
  {
   "cell_type": "code",
   "execution_count": 3,
   "metadata": {},
   "outputs": [],
   "source": [
    "import numpy as np # Here numpy is imported as np so I can just type np. instead of the full numpy. when calling a function."
   ]
  },
  {
   "cell_type": "code",
   "execution_count": 4,
   "metadata": {},
   "outputs": [
    {
     "name": "stdout",
     "output_type": "stream",
     "text": [
      "[1, 2, 3, 4, 5]\n"
     ]
    }
   ],
   "source": [
    "a = [1,2,3,4,5] # He's making a list,\n",
    "print(a)"
   ]
  },
  {
   "cell_type": "code",
   "execution_count": 5,
   "metadata": {},
   "outputs": [
    {
     "name": "stdout",
     "output_type": "stream",
     "text": [
      "[1, 2, 3, 4, 5]\n"
     ]
    }
   ],
   "source": [
    "print(a) # He's checking it twice."
   ]
  },
  {
   "cell_type": "code",
   "execution_count": 6,
   "metadata": {},
   "outputs": [],
   "source": [
    "b = [1,2,3,4,6.4, True, False, 'Some Text']"
   ]
  },
  {
   "cell_type": "code",
   "execution_count": 7,
   "metadata": {},
   "outputs": [
    {
     "data": {
      "text/plain": [
       "[1, 2, 3, 4, 6.4, True, False, 'Some Text']"
      ]
     },
     "execution_count": 7,
     "metadata": {},
     "output_type": "execute_result"
    }
   ],
   "source": [
    "b"
   ]
  },
  {
   "cell_type": "code",
   "execution_count": 8,
   "metadata": {},
   "outputs": [],
   "source": [
    "c = a+b"
   ]
  },
  {
   "cell_type": "code",
   "execution_count": 9,
   "metadata": {},
   "outputs": [
    {
     "name": "stdout",
     "output_type": "stream",
     "text": [
      "[1, 2, 3, 4, 5, 1, 2, 3, 4, 6.4, True, False, 'Some Text']\n"
     ]
    }
   ],
   "source": [
    "print(c)"
   ]
  },
  {
   "cell_type": "code",
   "execution_count": 10,
   "metadata": {},
   "outputs": [
    {
     "name": "stdout",
     "output_type": "stream",
     "text": [
      "The second item in list c is: 2\n"
     ]
    }
   ],
   "source": [
    "print('The second item in list c is:', c[1])"
   ]
  },
  {
   "cell_type": "code",
   "execution_count": 11,
   "metadata": {},
   "outputs": [
    {
     "name": "stdout",
     "output_type": "stream",
     "text": [
      "The tenth item in list c is: 6.4\n"
     ]
    }
   ],
   "source": [
    "print('The tenth item in list c is:', c[9])"
   ]
  },
  {
   "cell_type": "code",
   "execution_count": 12,
   "metadata": {},
   "outputs": [
    {
     "data": {
      "text/plain": [
       "[1, 2, 3, 4, 5, 1, 2, 3, 4, 6.4]"
      ]
     },
     "execution_count": 12,
     "metadata": {},
     "output_type": "execute_result"
    }
   ],
   "source": [
    "c[0:10] # See first 10 items in list"
   ]
  },
  {
   "cell_type": "code",
   "execution_count": 23,
   "metadata": {},
   "outputs": [
    {
     "name": "stdout",
     "output_type": "stream",
     "text": [
      "[200, 2, 3, 4, 5, 1, 2, 3, 4, 6.4, True, False, 'Some Text']\n"
     ]
    }
   ],
   "source": [
    "c[0]=200\n",
    "print(c)"
   ]
  },
  {
   "cell_type": "code",
   "execution_count": 14,
   "metadata": {},
   "outputs": [
    {
     "name": "stdout",
     "output_type": "stream",
     "text": [
      "The last item in list c is: Some Text\n"
     ]
    }
   ],
   "source": [
    "print('The last item in list c is:', c[-1])"
   ]
  },
  {
   "cell_type": "code",
   "execution_count": 15,
   "metadata": {},
   "outputs": [
    {
     "name": "stdout",
     "output_type": "stream",
     "text": [
      "The length of my list is:  13\n"
     ]
    }
   ],
   "source": [
    "my_length = len(c)\n",
    "print('The length of my list is: ', my_length)"
   ]
  },
  {
   "cell_type": "code",
   "execution_count": 16,
   "metadata": {},
   "outputs": [
    {
     "name": "stdout",
     "output_type": "stream",
     "text": [
      "Current stocks list:  ['TSLA', 'BRKA', 'RDSA', 'AMD', 'MMM']\n",
      "Updated stocks list:  ['BRKA', 'RDSA', 'AMD', 'MMM']\n"
     ]
    }
   ],
   "source": [
    "# Stocks list\n",
    "stocks = ['TSLA', 'BRKA', 'RDSA', 'AMD', 'MMM']\n",
    "print('Current stocks list: ', stocks)\n",
    "\n",
    "# 'TSLA' is removed\n",
    "stocks.remove('TSLA')\n",
    "\n",
    "# Updated stocks list\n",
    "print('Updated stocks list: ', stocks)"
   ]
  },
  {
   "cell_type": "code",
   "execution_count": 17,
   "metadata": {},
   "outputs": [
    {
     "name": "stdout",
     "output_type": "stream",
     "text": [
      "Updated stocks list:  ['BRKA', 'RDSA', 'AMD', 'MMM', 'SAVE']\n"
     ]
    }
   ],
   "source": [
    "#Add a new stock to end of list\n",
    "stocks.append('SAVE')\n",
    "print('Updated stocks list: ', stocks)"
   ]
  },
  {
   "cell_type": "code",
   "execution_count": 18,
   "metadata": {},
   "outputs": [
    {
     "name": "stdout",
     "output_type": "stream",
     "text": [
      "My list:  [200, 2, 3, 4, 5, 1, 2, 3, 4, 6.4, True, False, 'Some Text']\n"
     ]
    }
   ],
   "source": [
    "print('My list: ', c) # take a look at the list"
   ]
  },
  {
   "cell_type": "markdown",
   "metadata": {},
   "source": [
    "## Tuples\n",
    "The same as lists, but they are immutable (you can't change them)"
   ]
  },
  {
   "cell_type": "code",
   "execution_count": 19,
   "metadata": {},
   "outputs": [
    {
     "name": "stdout",
     "output_type": "stream",
     "text": [
      "My tuple:  (4, 5, 6, 7)\n"
     ]
    }
   ],
   "source": [
    "my_tuple = (4, 5, 6, 7)\n",
    "print('My tuple: ', my_tuple)"
   ]
  },
  {
   "cell_type": "code",
   "execution_count": 20,
   "metadata": {},
   "outputs": [
    {
     "ename": "TypeError",
     "evalue": "'tuple' object does not support item assignment",
     "output_type": "error",
     "traceback": [
      "\u001b[1;31m---------------------------------------------------------------------------\u001b[0m",
      "\u001b[1;31mTypeError\u001b[0m                                 Traceback (most recent call last)",
      "Input \u001b[1;32mIn [20]\u001b[0m, in \u001b[0;36m<cell line: 1>\u001b[1;34m()\u001b[0m\n\u001b[1;32m----> 1\u001b[0m my_tuple[\u001b[38;5;241m0\u001b[39m] \u001b[38;5;241m=\u001b[39m \u001b[38;5;241m5\u001b[39m\n",
      "\u001b[1;31mTypeError\u001b[0m: 'tuple' object does not support item assignment"
     ]
    }
   ],
   "source": [
    "my_tuple[0] = 5 # Won't work, Tuples are immutable."
   ]
  },
  {
   "cell_type": "markdown",
   "metadata": {},
   "source": [
    "## Set Theory\n",
    "With Python sets we can do some set theory operations."
   ]
  },
  {
   "cell_type": "code",
   "execution_count": 24,
   "metadata": {},
   "outputs": [],
   "source": [
    "my_set = set(c)"
   ]
  },
  {
   "cell_type": "code",
   "execution_count": 26,
   "metadata": {},
   "outputs": [
    {
     "name": "stdout",
     "output_type": "stream",
     "text": [
      "My set:  {False, 1, 2, 3, 4, 5, 6.4, 'Some Text', 200}\n"
     ]
    }
   ],
   "source": [
    "print('My set: ', my_set) # make a set based on the list. Not only unique items appear"
   ]
  },
  {
   "cell_type": "code",
   "execution_count": 27,
   "metadata": {},
   "outputs": [],
   "source": [
    "#Set A\n",
    "A = {'Cow', 'Cat', 'Dog', 'Rabbit', 'Sheep'}\n",
    "\n",
    "#Set B\n",
    "B = {'Cat', 'Dog', 'Squirrel', 'Fox'}"
   ]
  },
  {
   "cell_type": "code",
   "execution_count": 28,
   "metadata": {},
   "outputs": [
    {
     "name": "stdout",
     "output_type": "stream",
     "text": [
      "The union of set A and set B is:  {'Cow', 'Sheep', 'Rabbit', 'Dog', 'Cat', 'Fox', 'Squirrel'}\n"
     ]
    }
   ],
   "source": [
    "#Calculating the Union of two sets\n",
    "U = A.union(B)\n",
    "print('The union of set A and set B is: ', U)"
   ]
  },
  {
   "cell_type": "code",
   "execution_count": 29,
   "metadata": {},
   "outputs": [
    {
     "name": "stdout",
     "output_type": "stream",
     "text": [
      "The intersection of set A and set B is:  {'Dog', 'Cat'}\n"
     ]
    }
   ],
   "source": [
    "#Calculating the Intersection of two sets\n",
    "n = A.intersection(B)\n",
    "print('The intersection of set A and set B is: ', n)"
   ]
  },
  {
   "cell_type": "code",
   "execution_count": 30,
   "metadata": {},
   "outputs": [
    {
     "name": "stdout",
     "output_type": "stream",
     "text": [
      "The difference of set A and set B is:  {'Sheep', 'Rabbit', 'Cow'}\n"
     ]
    }
   ],
   "source": [
    "#Calculating the difference of two sets\n",
    "d = A.difference(B)\n",
    "print('The difference of set A and set B is: ', d)"
   ]
  },
  {
   "cell_type": "markdown",
   "metadata": {},
   "source": [
    "# Exercise 2\n",
    "## Lists\n",
    "Some manipulation and accessing variables"
   ]
  },
  {
   "cell_type": "code",
   "execution_count": 35,
   "metadata": {},
   "outputs": [],
   "source": [
    "# Here's a list of lists.\n",
    "listOfBestLists = ['NYT best-sellers list', 'Santas list', 'Bucket list', 'Lloyds list', 'Listerine']\n",
    "# One of these lists is not in fact a list. Either remove it or substitute it with your own list."
   ]
  },
  {
   "cell_type": "code",
   "execution_count": 36,
   "metadata": {
    "scrolled": true
   },
   "outputs": [
    {
     "name": "stdout",
     "output_type": "stream",
     "text": [
      "['NYT best-sellers list', 'Santas list', 'Bucket list', 'Lloyds list']\n"
     ]
    }
   ],
   "source": [
    "listOfBestLists.remove('Listerine')\n",
    "print(listOfBestLists)"
   ]
  },
  {
   "cell_type": "code",
   "execution_count": 37,
   "metadata": {},
   "outputs": [
    {
     "name": "stdout",
     "output_type": "stream",
     "text": [
      "Lloyds list\n"
     ]
    }
   ],
   "source": [
    "# Print out the last item in the list:\n",
    "print(listOfBestLists[-1])"
   ]
  },
  {
   "cell_type": "code",
   "execution_count": 38,
   "metadata": {},
   "outputs": [
    {
     "name": "stdout",
     "output_type": "stream",
     "text": [
      "Bucket list\n"
     ]
    }
   ],
   "source": [
    "# You can actually print out the second last item by asking for item -2.\n",
    "print(listOfBestLists[2])"
   ]
  },
  {
   "cell_type": "code",
   "execution_count": 39,
   "metadata": {},
   "outputs": [
    {
     "name": "stdout",
     "output_type": "stream",
     "text": [
      "First Two Items are: ['NYT best-sellers list', 'Santas list']\n"
     ]
    }
   ],
   "source": [
    "# You know you can access a range with the colon:, this quite versatile as you can leave a number out to slice lists.\n",
    "first_two_items = listOfBestLists[:2]\n",
    "print('First Two Items are: {}'.format(first_two_items))"
   ]
  },
  {
   "cell_type": "code",
   "execution_count": 40,
   "metadata": {},
   "outputs": [
    {
     "name": "stdout",
     "output_type": "stream",
     "text": [
      "First Two Items are: ['Bucket list', 'Lloyds list']\n"
     ]
    }
   ],
   "source": [
    "third_to_end = listOfBestLists[2:]\n",
    "print('First Two Items are: {}'.format(third_to_end))"
   ]
  },
  {
   "cell_type": "code",
   "execution_count": 41,
   "metadata": {},
   "outputs": [
    {
     "name": "stdout",
     "output_type": "stream",
     "text": [
      "NYT best-sellers list , Santas list\n"
     ]
    }
   ],
   "source": [
    "# You can declare several variables directly form lists in one line.\n",
    "item1, item2 = listOfBestLists[:2]\n",
    "print(item1,',', item2)"
   ]
  },
  {
   "cell_type": "code",
   "execution_count": 42,
   "metadata": {},
   "outputs": [
    {
     "name": "stdout",
     "output_type": "stream",
     "text": [
      "[1, 2, 3, 4, 5]\n"
     ]
    }
   ],
   "source": [
    "list_1 = [1, 2, 3, 4, 5, 6, 7, 8, 9]\n",
    "# Print out the first 5 items\n",
    "print(list_1[:5])"
   ]
  },
  {
   "cell_type": "code",
   "execution_count": 43,
   "metadata": {},
   "outputs": [
    {
     "name": "stdout",
     "output_type": "stream",
     "text": [
      "[7, 8, 9]\n"
     ]
    }
   ],
   "source": [
    "# Print out the last 3 items\n",
    "print(list_1[-3:])"
   ]
  },
  {
   "cell_type": "code",
   "execution_count": 45,
   "metadata": {},
   "outputs": [
    {
     "name": "stdout",
     "output_type": "stream",
     "text": [
      "[3, 4, 5, 6]\n"
     ]
    }
   ],
   "source": [
    "# Print out items 3 to 6\n",
    "print(list_1[2:6])"
   ]
  },
  {
   "cell_type": "markdown",
   "metadata": {},
   "source": [
    "## All Set?\n",
    "Some code is missing, try fill it out to get it working again"
   ]
  },
  {
   "cell_type": "code",
   "execution_count": 46,
   "metadata": {},
   "outputs": [],
   "source": [
    "# Here is a list of stocks in my friends portfolio:\n",
    "friends_stock_list = ['F', 'AMD', 'GAW', 'TM17', 'DISH']"
   ]
  },
  {
   "cell_type": "code",
   "execution_count": 47,
   "metadata": {},
   "outputs": [],
   "source": [
    "# My friend added MSFT and AMZN stocks to his portfolio yesterday, make a list of those stocks.\n",
    "stocks_added_yesterday = ['MSFT', 'AMZN']"
   ]
  },
  {
   "cell_type": "code",
   "execution_count": 48,
   "metadata": {},
   "outputs": [],
   "source": [
    "# Combine both lists together to update his list oh current holdings.\n",
    "friends_stock_list = friends_stock_list + stocks_added_yesterday"
   ]
  },
  {
   "cell_type": "code",
   "execution_count": 49,
   "metadata": {},
   "outputs": [],
   "source": [
    "# He realises the list is incorrect, he sold Ford a sold long ago. correct the list by removing 'F'\n",
    "friends_stock_list.remove('F')"
   ]
  },
  {
   "cell_type": "code",
   "execution_count": 50,
   "metadata": {},
   "outputs": [],
   "source": [
    "# His sister also holds some stocks, here is the list of them:\n",
    "sisters_stocks_list = ['DIS', 'TM17', 'MMM', 'AMD']"
   ]
  },
  {
   "cell_type": "code",
   "execution_count": 51,
   "metadata": {},
   "outputs": [],
   "source": [
    "# We want to see what stocks they have in common (I know it's not many, imagine they contain 40+ each). \n",
    "# for each list create a corresponding set, and find their intersection.\n",
    "friends_stock_set = set(friends_stock_list)\n",
    "sisters_stocks_set = set(sisters_stocks_list)"
   ]
  },
  {
   "cell_type": "code",
   "execution_count": 52,
   "metadata": {},
   "outputs": [
    {
     "name": "stdout",
     "output_type": "stream",
     "text": [
      "Their common holdings are:  {'AMD', 'TM17'}\n"
     ]
    }
   ],
   "source": [
    "print('Their common holdings are: ', friends_stock_set.intersection(sisters_stocks_set))"
   ]
  },
  {
   "cell_type": "code",
   "execution_count": 53,
   "metadata": {},
   "outputs": [
    {
     "name": "stdout",
     "output_type": "stream",
     "text": [
      "Their total holdings are:  {'DISH', 'DIS', 'AMD', 'MMM', 'GAW', 'TM17', 'AMZN', 'MSFT'}\n"
     ]
    }
   ],
   "source": [
    "# Let's see a complete set of all their holdings.\n",
    "print('Their total holdings are: ', friends_stock_set.union(sisters_stocks_set))"
   ]
  },
  {
   "cell_type": "code",
   "execution_count": null,
   "metadata": {},
   "outputs": [],
   "source": []
  }
 ],
 "metadata": {
  "kernelspec": {
   "display_name": "Python 3 (ipykernel)",
   "language": "python",
   "name": "python3"
  },
  "language_info": {
   "codemirror_mode": {
    "name": "ipython",
    "version": 3
   },
   "file_extension": ".py",
   "mimetype": "text/x-python",
   "name": "python",
   "nbconvert_exporter": "python",
   "pygments_lexer": "ipython3",
   "version": "3.11.3"
  }
 },
 "nbformat": 4,
 "nbformat_minor": 4
}
